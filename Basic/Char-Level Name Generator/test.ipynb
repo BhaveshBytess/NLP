{
 "cells": [
  {
   "cell_type": "code",
   "execution_count": 3,
   "id": "423773ce",
   "metadata": {},
   "outputs": [
    {
     "name": "stderr",
     "output_type": "stream",
     "text": [
      "WARNING:absl:Compiled the loaded model, but the compiled metrics have yet to be built. `model.compile_metrics` will be empty until you train or evaluate the model.\n"
     ]
    },
    {
     "name": "stdout",
     "output_type": "stream",
     "text": [
      "['Rosaline', 'Valina', 'Karlyn', 'Lillia', 'Aloxina', 'Mola', 'Arianette', 'Chersta', 'Nicka', 'Marissa']\n"
     ]
    }
   ],
   "source": [
    "from tensorflow.keras.models import load_model\n",
    "import pickle\n",
    "\n",
    "# Import the generation functions\n",
    "from namegen_pipeline import generate_names\n",
    "\n",
    "# 🔁 Load model\n",
    "model = load_model(\"models/namegen_lstm.h5\")\n",
    "\n",
    "# 🧠 Load mappings\n",
    "with open(\"models/char_mappings.pkl\", \"rb\") as f:\n",
    "    mappings = pickle.load(f)\n",
    "    char2idx = mappings['char2idx']\n",
    "    idx2char = mappings['idx2char']\n",
    "\n",
    "# Example: Generate female names\n",
    "generated = generate_names(model, char2idx, idx2char, n=10, gender='F', temperature=0.8)\n",
    "print(generated)\n"
   ]
  },
  {
   "cell_type": "code",
   "execution_count": null,
   "id": "0a3e672b",
   "metadata": {},
   "outputs": [],
   "source": []
  }
 ],
 "metadata": {
  "kernelspec": {
   "display_name": "venv",
   "language": "python",
   "name": "python3"
  },
  "language_info": {
   "codemirror_mode": {
    "name": "ipython",
    "version": 3
   },
   "file_extension": ".py",
   "mimetype": "text/x-python",
   "name": "python",
   "nbconvert_exporter": "python",
   "pygments_lexer": "ipython3",
   "version": "3.10.11"
  }
 },
 "nbformat": 4,
 "nbformat_minor": 5
}
