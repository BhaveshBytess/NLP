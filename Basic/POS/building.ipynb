{
 "cells": [
  {
   "cell_type": "markdown",
   "id": "5f55b72b",
   "metadata": {},
   "source": [
    "# POS TAG VIZUALIZER"
   ]
  },
  {
   "cell_type": "code",
   "execution_count": 1,
   "id": "3cca2fdd",
   "metadata": {},
   "outputs": [],
   "source": [
    "import spacy\n",
    "\n",
    "# Load the English NLP pipeline\n",
    "nlp = spacy.load(\"en_core_web_sm\")"
   ]
  },
  {
   "cell_type": "markdown",
   "id": "f468fbbe",
   "metadata": {},
   "source": [
    "- EXAMPLE   "
   ]
  },
  {
   "cell_type": "code",
   "execution_count": 2,
   "id": "56721a8b",
   "metadata": {},
   "outputs": [
    {
     "name": "stdout",
     "output_type": "stream",
     "text": [
      "[('The', 'DET'), ('quick', 'ADJ'), ('brown', 'ADJ'), ('fox', 'NOUN'), ('jumps', 'VERB'), ('over', 'ADP'), ('the', 'DET'), ('lazy', 'ADJ'), ('dog', 'NOUN'), ('.', 'PUNCT')]\n"
     ]
    }
   ],
   "source": [
    "def pos_tag_sentence(text):\n",
    "    doc = nlp(text)\n",
    "    return [(token.text, token.pos_) for token in doc]\n",
    "\n",
    "# Try it\n",
    "sample = \"The quick brown fox jumps over the lazy dog.\"\n",
    "print(pos_tag_sentence(sample))"
   ]
  },
  {
   "cell_type": "code",
   "execution_count": 3,
   "id": "641d3859",
   "metadata": {},
   "outputs": [],
   "source": [
    "POS_COLOR_MAP = {\n",
    "    \"NOUN\": \"#f9c74f\",\n",
    "    \"VERB\": \"#90be6d\",\n",
    "    \"ADJ\": \"#f94144\",\n",
    "    \"ADV\": \"#577590\",\n",
    "    \"PRON\": \"#f9844a\",\n",
    "    \"DET\": \"#43aa8b\",\n",
    "    \"ADP\": \"#277da1\",\n",
    "    \"CCONJ\": \"#9d4edd\",\n",
    "    \"PART\": \"#e76f51\",\n",
    "    \"NUM\": \"#adb5bd\",\n",
    "    \"PUNCT\": \"#ced4da\",\n",
    "    \"INTJ\": \"#d00000\",\n",
    "    \"SYM\": \"#6a4c93\",\n",
    "    \"X\": \"#adb5bd\"\n",
    "}\n"
   ]
  },
  {
   "cell_type": "code",
   "execution_count": 4,
   "id": "a01b92de",
   "metadata": {},
   "outputs": [
    {
     "name": "stderr",
     "output_type": "stream",
     "text": [
      "C:\\Users\\oumme\\AppData\\Local\\Temp\\ipykernel_13400\\788046981.py:1: DeprecationWarning: Importing display from IPython.core.display is deprecated since IPython 7.14, please import from IPython.display\n",
      "  from IPython.core.display import display, HTML\n"
     ]
    }
   ],
   "source": [
    "from IPython.core.display import display, HTML\n",
    "\n",
    "def visualize_pos_tags(text):\n",
    "    doc = nlp(text)\n",
    "    html = \"\"\n",
    "\n",
    "    for token in doc:\n",
    "        word = token.text\n",
    "        pos = token.pos_\n",
    "        color = POS_COLOR_MAP.get(pos, \"#ffffff\")\n",
    "        html += f'<span style=\"background-color: {color}; padding:2px 4px; margin:1px; border-radius:4px; display:inline-block\">{word}</span> '\n",
    "\n",
    "    display(HTML(html))"
   ]
  },
  {
   "cell_type": "code",
   "execution_count": 5,
   "id": "e0bc64a1",
   "metadata": {},
   "outputs": [
    {
     "data": {
      "text/html": [
       "<span style=\"background-color: #43aa8b; padding:2px 4px; margin:1px; border-radius:4px; display:inline-block\">The</span> <span style=\"background-color: #f94144; padding:2px 4px; margin:1px; border-radius:4px; display:inline-block\">quick</span> <span style=\"background-color: #f94144; padding:2px 4px; margin:1px; border-radius:4px; display:inline-block\">brown</span> <span style=\"background-color: #f9c74f; padding:2px 4px; margin:1px; border-radius:4px; display:inline-block\">fox</span> <span style=\"background-color: #90be6d; padding:2px 4px; margin:1px; border-radius:4px; display:inline-block\">jumps</span> <span style=\"background-color: #277da1; padding:2px 4px; margin:1px; border-radius:4px; display:inline-block\">over</span> <span style=\"background-color: #43aa8b; padding:2px 4px; margin:1px; border-radius:4px; display:inline-block\">the</span> <span style=\"background-color: #f94144; padding:2px 4px; margin:1px; border-radius:4px; display:inline-block\">lazy</span> <span style=\"background-color: #f9c74f; padding:2px 4px; margin:1px; border-radius:4px; display:inline-block\">dog</span> <span style=\"background-color: #ced4da; padding:2px 4px; margin:1px; border-radius:4px; display:inline-block\">.</span> "
      ],
      "text/plain": [
       "<IPython.core.display.HTML object>"
      ]
     },
     "metadata": {},
     "output_type": "display_data"
    }
   ],
   "source": [
    "visualize_pos_tags(\"The quick brown fox jumps over the lazy dog.\")\n"
   ]
  },
  {
   "cell_type": "code",
   "execution_count": 6,
   "id": "1493a01a",
   "metadata": {},
   "outputs": [],
   "source": [
    "def visualize_pos_tags(text):\n",
    "    doc = nlp(text)\n",
    "    html = \"\"\n",
    "\n",
    "    for token in doc:\n",
    "        word = token.text\n",
    "        pos = token.pos_\n",
    "        color = POS_COLOR_MAP.get(pos, \"#ffffff\")\n",
    "        html += (\n",
    "            f'<span title=\"{pos}\" '\n",
    "            f'style=\"background-color: {color}; padding:2px 4px; margin:1px; '\n",
    "            f'border-radius:4px; display:inline-block; cursor:help\">'\n",
    "            f'{word}</span> '\n",
    "        )\n",
    "\n",
    "    display(HTML(html))\n"
   ]
  },
  {
   "cell_type": "code",
   "execution_count": 7,
   "id": "f93be357",
   "metadata": {},
   "outputs": [
    {
     "data": {
      "text/html": [
       "<span title=\"SCONJ\" style=\"background-color: #ffffff; padding:2px 4px; margin:1px; border-radius:4px; display:inline-block; cursor:help\">Despite</span> <span title=\"DET\" style=\"background-color: #43aa8b; padding:2px 4px; margin:1px; border-radius:4px; display:inline-block; cursor:help\">the</span> <span title=\"NOUN\" style=\"background-color: #f9c74f; padding:2px 4px; margin:1px; border-radius:4px; display:inline-block; cursor:help\">rain</span> <span title=\"PUNCT\" style=\"background-color: #ced4da; padding:2px 4px; margin:1px; border-radius:4px; display:inline-block; cursor:help\">,</span> <span title=\"PRON\" style=\"background-color: #f9844a; padding:2px 4px; margin:1px; border-radius:4px; display:inline-block; cursor:help\">they</span> <span title=\"VERB\" style=\"background-color: #90be6d; padding:2px 4px; margin:1px; border-radius:4px; display:inline-block; cursor:help\">went</span> <span title=\"ADP\" style=\"background-color: #277da1; padding:2px 4px; margin:1px; border-radius:4px; display:inline-block; cursor:help\">for</span> <span title=\"DET\" style=\"background-color: #43aa8b; padding:2px 4px; margin:1px; border-radius:4px; display:inline-block; cursor:help\">a</span> <span title=\"ADJ\" style=\"background-color: #f94144; padding:2px 4px; margin:1px; border-radius:4px; display:inline-block; cursor:help\">long</span> <span title=\"NOUN\" style=\"background-color: #f9c74f; padding:2px 4px; margin:1px; border-radius:4px; display:inline-block; cursor:help\">walk</span> <span title=\"PUNCT\" style=\"background-color: #ced4da; padding:2px 4px; margin:1px; border-radius:4px; display:inline-block; cursor:help\">.</span> "
      ],
      "text/plain": [
       "<IPython.core.display.HTML object>"
      ]
     },
     "metadata": {},
     "output_type": "display_data"
    }
   ],
   "source": [
    "visualize_pos_tags(\"Despite the rain, they went for a long walk.\")\n"
   ]
  },
  {
   "cell_type": "code",
   "execution_count": 8,
   "id": "4e730c91",
   "metadata": {},
   "outputs": [],
   "source": [
    "def visualize_pos_tags_batch(text):\n",
    "    doc = nlp(text)\n",
    "    html = \"\"\n",
    "\n",
    "    for sent in doc.sents:\n",
    "        for token in sent:\n",
    "            word = token.text\n",
    "            pos = token.pos_\n",
    "            color = POS_COLOR_MAP.get(pos, \"#ffffff\")\n",
    "            html += (\n",
    "                f'<span title=\"{pos}\" '\n",
    "                f'style=\"background-color: {color}; padding:2px 4px; margin:1px; '\n",
    "                f'border-radius:4px; display:inline-block; cursor:help\">'\n",
    "                f'{word}</span> '\n",
    "            )\n",
    "        html += \"<br><br>\"  # Space between sentences\n",
    "\n",
    "    display(HTML(html))\n"
   ]
  },
  {
   "cell_type": "code",
   "execution_count": 9,
   "id": "eb052c6e",
   "metadata": {},
   "outputs": [
    {
     "data": {
      "text/html": [
       "<span title=\"PRON\" style=\"background-color: #f9844a; padding:2px 4px; margin:1px; border-radius:4px; display:inline-block; cursor:help\">I</span> <span title=\"VERB\" style=\"background-color: #90be6d; padding:2px 4px; margin:1px; border-radius:4px; display:inline-block; cursor:help\">love</span> <span title=\"ADJ\" style=\"background-color: #f94144; padding:2px 4px; margin:1px; border-radius:4px; display:inline-block; cursor:help\">natural</span> <span title=\"NOUN\" style=\"background-color: #f9c74f; padding:2px 4px; margin:1px; border-radius:4px; display:inline-block; cursor:help\">language</span> <span title=\"NOUN\" style=\"background-color: #f9c74f; padding:2px 4px; margin:1px; border-radius:4px; display:inline-block; cursor:help\">processing</span> <span title=\"PUNCT\" style=\"background-color: #ced4da; padding:2px 4px; margin:1px; border-radius:4px; display:inline-block; cursor:help\">.</span> <br><br><span title=\"PRON\" style=\"background-color: #f9844a; padding:2px 4px; margin:1px; border-radius:4px; display:inline-block; cursor:help\">It</span> <span title=\"VERB\" style=\"background-color: #90be6d; padding:2px 4px; margin:1px; border-radius:4px; display:inline-block; cursor:help\">’s</span> <span title=\"ADJ\" style=\"background-color: #f94144; padding:2px 4px; margin:1px; border-radius:4px; display:inline-block; cursor:help\">fascinating</span> <span title=\"SCONJ\" style=\"background-color: #ffffff; padding:2px 4px; margin:1px; border-radius:4px; display:inline-block; cursor:help\">how</span> <span title=\"NOUN\" style=\"background-color: #f9c74f; padding:2px 4px; margin:1px; border-radius:4px; display:inline-block; cursor:help\">machines</span> <span title=\"VERB\" style=\"background-color: #90be6d; padding:2px 4px; margin:1px; border-radius:4px; display:inline-block; cursor:help\">understand</span> <span title=\"NOUN\" style=\"background-color: #f9c74f; padding:2px 4px; margin:1px; border-radius:4px; display:inline-block; cursor:help\">language</span> <span title=\"PUNCT\" style=\"background-color: #ced4da; padding:2px 4px; margin:1px; border-radius:4px; display:inline-block; cursor:help\">!</span> <br><br>"
      ],
      "text/plain": [
       "<IPython.core.display.HTML object>"
      ]
     },
     "metadata": {},
     "output_type": "display_data"
    }
   ],
   "source": [
    "paragraph = \"I love natural language processing. It’s fascinating how machines understand language!\"\n",
    "visualize_pos_tags_batch(paragraph)\n"
   ]
  },
  {
   "cell_type": "code",
   "execution_count": null,
   "id": "3cad43e0",
   "metadata": {},
   "outputs": [],
   "source": []
  }
 ],
 "metadata": {
  "kernelspec": {
   "display_name": "venv",
   "language": "python",
   "name": "python3"
  },
  "language_info": {
   "codemirror_mode": {
    "name": "ipython",
    "version": 3
   },
   "file_extension": ".py",
   "mimetype": "text/x-python",
   "name": "python",
   "nbconvert_exporter": "python",
   "pygments_lexer": "ipython3",
   "version": "3.10.11"
  }
 },
 "nbformat": 4,
 "nbformat_minor": 5
}
