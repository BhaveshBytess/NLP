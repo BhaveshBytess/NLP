{
 "cells": [
  {
   "cell_type": "code",
   "execution_count": 1,
   "id": "161fa15f",
   "metadata": {},
   "outputs": [
    {
     "name": "stdout",
     "output_type": "stream",
     "text": [
      "[('Despite', 'SCONJ'), ('the', 'DET'), ('rain', 'NOUN'), (',', 'PUNCT'), ('they', 'PRON'), ('went', 'VERB'), ('for', 'ADP'), ('a', 'DET'), ('long', 'ADJ'), ('walk', 'NOUN'), ('.', 'PUNCT')]\n"
     ]
    },
    {
     "data": {
      "text/html": [
       "<span title=\"SCONJ\" style=\"background-color: #ffffff; padding:2px 4px; margin:1px; border-radius:4px; display:inline-block; cursor:help;\">Despite</span> <span title=\"DET\" style=\"background-color: #43aa8b; padding:2px 4px; margin:1px; border-radius:4px; display:inline-block; cursor:help;\">the</span> <span title=\"NOUN\" style=\"background-color: #f9c74f; padding:2px 4px; margin:1px; border-radius:4px; display:inline-block; cursor:help;\">rain</span> <span title=\"PUNCT\" style=\"background-color: #ced4da; padding:2px 4px; margin:1px; border-radius:4px; display:inline-block; cursor:help;\">,</span> <span title=\"PRON\" style=\"background-color: #f9844a; padding:2px 4px; margin:1px; border-radius:4px; display:inline-block; cursor:help;\">they</span> <span title=\"VERB\" style=\"background-color: #90be6d; padding:2px 4px; margin:1px; border-radius:4px; display:inline-block; cursor:help;\">went</span> <span title=\"ADP\" style=\"background-color: #277da1; padding:2px 4px; margin:1px; border-radius:4px; display:inline-block; cursor:help;\">for</span> <span title=\"DET\" style=\"background-color: #43aa8b; padding:2px 4px; margin:1px; border-radius:4px; display:inline-block; cursor:help;\">a</span> <span title=\"ADJ\" style=\"background-color: #f94144; padding:2px 4px; margin:1px; border-radius:4px; display:inline-block; cursor:help;\">long</span> <span title=\"NOUN\" style=\"background-color: #f9c74f; padding:2px 4px; margin:1px; border-radius:4px; display:inline-block; cursor:help;\">walk</span> <span title=\"PUNCT\" style=\"background-color: #ced4da; padding:2px 4px; margin:1px; border-radius:4px; display:inline-block; cursor:help;\">.</span> <br><br>"
      ],
      "text/plain": [
       "<IPython.core.display.HTML object>"
      ]
     },
     "metadata": {},
     "output_type": "display_data"
    }
   ],
   "source": [
    "from pos_tagging import pos_tag_sentence, get_pos_html\n",
    "from IPython.display import display, HTML\n",
    "\n",
    "text = \"Despite the rain, they went for a long walk.\"\n",
    "print(pos_tag_sentence(text))\n",
    "display(HTML(get_pos_html(text)))"
   ]
  },
  {
   "cell_type": "markdown",
   "id": "13711f33",
   "metadata": {},
   "source": [
    "### Usage in Streamlit"
   ]
  },
  {
   "cell_type": "code",
   "execution_count": 2,
   "id": "590f9f21",
   "metadata": {},
   "outputs": [
    {
     "name": "stderr",
     "output_type": "stream",
     "text": [
      "2025-06-07 14:33:41.132 WARNING streamlit.runtime.scriptrunner_utils.script_run_context: Thread 'MainThread': missing ScriptRunContext! This warning can be ignored when running in bare mode.\n",
      "2025-06-07 14:33:41.133 WARNING streamlit.runtime.scriptrunner_utils.script_run_context: Thread 'MainThread': missing ScriptRunContext! This warning can be ignored when running in bare mode.\n",
      "2025-06-07 14:33:41.133 WARNING streamlit.runtime.scriptrunner_utils.script_run_context: Thread 'MainThread': missing ScriptRunContext! This warning can be ignored when running in bare mode.\n",
      "2025-06-07 14:33:41.137 WARNING streamlit.runtime.scriptrunner_utils.script_run_context: Thread 'MainThread': missing ScriptRunContext! This warning can be ignored when running in bare mode.\n",
      "2025-06-07 14:33:41.138 WARNING streamlit.runtime.state.session_state_proxy: Session state does not function when running a script without `streamlit run`\n",
      "2025-06-07 14:33:41.139 WARNING streamlit.runtime.scriptrunner_utils.script_run_context: Thread 'MainThread': missing ScriptRunContext! This warning can be ignored when running in bare mode.\n",
      "2025-06-07 14:33:42.264 \n",
      "  \u001b[33m\u001b[1mWarning:\u001b[0m to view this Streamlit app on a browser, run it with the following\n",
      "  command:\n",
      "\n",
      "    streamlit run d:\\MY WORK\\Python\\Basic-Models\\venv\\lib\\site-packages\\ipykernel_launcher.py [ARGUMENTS]\n",
      "2025-06-07 14:33:42.265 Thread 'MainThread': missing ScriptRunContext! This warning can be ignored when running in bare mode.\n",
      "2025-06-07 14:33:42.266 Thread 'MainThread': missing ScriptRunContext! This warning can be ignored when running in bare mode.\n",
      "2025-06-07 14:33:42.267 Thread 'MainThread': missing ScriptRunContext! This warning can be ignored when running in bare mode.\n",
      "2025-06-07 14:33:42.267 Thread 'MainThread': missing ScriptRunContext! This warning can be ignored when running in bare mode.\n",
      "2025-06-07 14:33:42.269 Thread 'MainThread': missing ScriptRunContext! This warning can be ignored when running in bare mode.\n",
      "2025-06-07 14:33:42.270 Thread 'MainThread': missing ScriptRunContext! This warning can be ignored when running in bare mode.\n"
     ]
    }
   ],
   "source": [
    "from pos_tagging import get_pos_html\n",
    "import streamlit as st\n",
    "\n",
    "text_input = st.text_area(\"Enter text:\")\n",
    "if st.button(\"Visualize\"):\n",
    "    html = get_pos_html(text_input)\n",
    "    st.markdown(html, unsafe_allow_html=True)"
   ]
  }
 ],
 "metadata": {
  "kernelspec": {
   "display_name": "venv",
   "language": "python",
   "name": "python3"
  },
  "language_info": {
   "codemirror_mode": {
    "name": "ipython",
    "version": 3
   },
   "file_extension": ".py",
   "mimetype": "text/x-python",
   "name": "python",
   "nbconvert_exporter": "python",
   "pygments_lexer": "ipython3",
   "version": "3.10.11"
  }
 },
 "nbformat": 4,
 "nbformat_minor": 5
}
