{
 "cells": [
  {
   "cell_type": "code",
   "execution_count": 9,
   "id": "feb3b3aa",
   "metadata": {},
   "outputs": [
    {
     "name": "stderr",
     "output_type": "stream",
     "text": [
      "[nltk_data] Downloading package punkt to\n",
      "[nltk_data]     C:\\Users\\oumme\\AppData\\Roaming\\nltk_data...\n",
      "[nltk_data]   Package punkt is already up-to-date!\n",
      "[nltk_data] Downloading package stopwords to\n",
      "[nltk_data]     C:\\Users\\oumme\\AppData\\Roaming\\nltk_data...\n",
      "[nltk_data]   Package stopwords is already up-to-date!\n",
      "[nltk_data] Downloading package wordnet to\n",
      "[nltk_data]     C:\\Users\\oumme\\AppData\\Roaming\\nltk_data...\n",
      "[nltk_data]   Package wordnet is already up-to-date!\n",
      "[nltk_data] Downloading package omw-1.4 to\n",
      "[nltk_data]     C:\\Users\\oumme\\AppData\\Roaming\\nltk_data...\n",
      "[nltk_data]   Package omw-1.4 is already up-to-date!\n"
     ]
    },
    {
     "name": "stdout",
     "output_type": "stream",
     "text": [
      "['reply', 'love', 'delicious', 'pizzza', 'italy']\n"
     ]
    }
   ],
   "source": [
    "from text_cleaner import clean_text\n",
    "\n",
    "sample = \"I reely loveee delicius pizzza 🍕 in Itly!\"\n",
    "print(clean_text(sample, correct_spelling=True))"
   ]
  },
  {
   "cell_type": "code",
   "execution_count": 3,
   "id": "699a953b",
   "metadata": {},
   "outputs": [
    {
     "name": "stdout",
     "output_type": "stream",
     "text": [
      "['reply', 'love', 'delicious', 'pizzza', 'italy']\n"
     ]
    }
   ],
   "source": [
    "import sys\n",
    "import os\n",
    "sys.path.append(os.getcwd())\n",
    "from text_cleaner import clean_text, clean_dataframe_column\n",
    "\n",
    "sample = \"I reely loveee delicius pizzza 🍕 in Itly!\"\n",
    "print(clean_text(sample, correct_spelling=True))"
   ]
  },
  {
   "cell_type": "code",
   "execution_count": 13,
   "id": "dfe8de33",
   "metadata": {},
   "outputs": [
    {
     "name": "stdout",
     "output_type": "stream",
     "text": [
      "['reply', 'love', 'delicious', 'pizzza', 'italy']\n"
     ]
    }
   ],
   "source": [
    "import sys\n",
    "sys.path.append(r\"d:\\MY WORK\\Python\\Basic-Models\\NLP-Projects\\Basic\")\n",
    "\n",
    "from text_cleaner import clean_text\n",
    "\n",
    "sample = \"I reely loveee delicius pizzza 🍕 in Itly!\"\n",
    "print(clean_text(sample, correct_spelling=True))"
   ]
  },
  {
   "cell_type": "code",
   "execution_count": 1,
   "id": "f7ad1311",
   "metadata": {},
   "outputs": [
    {
     "name": "stderr",
     "output_type": "stream",
     "text": [
      "[nltk_data] Downloading package punkt to\n",
      "[nltk_data]     C:\\Users\\oumme\\AppData\\Roaming\\nltk_data...\n",
      "[nltk_data]   Package punkt is already up-to-date!\n",
      "[nltk_data] Downloading package stopwords to\n",
      "[nltk_data]     C:\\Users\\oumme\\AppData\\Roaming\\nltk_data...\n",
      "[nltk_data]   Package stopwords is already up-to-date!\n",
      "[nltk_data] Downloading package wordnet to\n",
      "[nltk_data]     C:\\Users\\oumme\\AppData\\Roaming\\nltk_data...\n",
      "[nltk_data]   Package wordnet is already up-to-date!\n",
      "[nltk_data] Downloading package omw-1.4 to\n",
      "[nltk_data]     C:\\Users\\oumme\\AppData\\Roaming\\nltk_data...\n",
      "[nltk_data]   Package omw-1.4 is already up-to-date!\n",
      "100%|██████████| 3/3 [00:03<00:00,  1.28s/it]"
     ]
    },
    {
     "name": "stdout",
     "output_type": "stream",
     "text": [
      "                                            raw_text  \\\n",
      "0  This is a <b>test</b> sentence with a link: ht...   \n",
      "1  Here's another line — with emojis 😂😂 and   whi...   \n",
      "2      The café's crème brûlée wasn't bad... at all!   \n",
      "\n",
      "                      raw_text_cleaned  \n",
      "0               [test, sentence, link]  \n",
      "1  [another, line, emojis, whitespace]  \n",
      "2          [cafés, crème, brûlée, bad]  \n"
     ]
    },
    {
     "name": "stderr",
     "output_type": "stream",
     "text": [
      "\n"
     ]
    }
   ],
   "source": [
    "import sys\n",
    "sys.path.append(r\"d:\\MY WORK\\Python\\Basic-Models\\NLP-Projects\\Basic\")\n",
    "\n",
    "from text_cleaner import clean_text, clean_dataframe_column\n",
    "import pandas as pd\n",
    "\n",
    "data = {\n",
    "    'raw_text': [\n",
    "        \"This is a <b>test</b> sentence with a link: https://t.co/abc123 😊\",\n",
    "        \"Here's another line — with emojis 😂😂 and   whitespace!\",\n",
    "        \"The café's crème brûlée wasn't bad... at all!\",\n",
    "    ]\n",
    "}\n",
    "df = pd.DataFrame(data)\n",
    "\n",
    "# Batch clean\n",
    "df = clean_dataframe_column(df, 'raw_text', remove_stopwords=True, remove_emojis=True)\n",
    "print(df.head())"
   ]
  },
  {
   "cell_type": "code",
   "execution_count": 1,
   "id": "730fd7e2",
   "metadata": {},
   "outputs": [
    {
     "name": "stderr",
     "output_type": "stream",
     "text": [
      "[nltk_data] Downloading package punkt to\n",
      "[nltk_data]     C:\\Users\\oumme\\AppData\\Roaming\\nltk_data...\n",
      "[nltk_data]   Package punkt is already up-to-date!\n",
      "[nltk_data] Downloading package stopwords to\n",
      "[nltk_data]     C:\\Users\\oumme\\AppData\\Roaming\\nltk_data...\n",
      "[nltk_data]   Package stopwords is already up-to-date!\n",
      "[nltk_data] Downloading package wordnet to\n",
      "[nltk_data]     C:\\Users\\oumme\\AppData\\Roaming\\nltk_data...\n",
      "[nltk_data]   Package wordnet is already up-to-date!\n",
      "[nltk_data] Downloading package omw-1.4 to\n",
      "[nltk_data]     C:\\Users\\oumme\\AppData\\Roaming\\nltk_data...\n",
      "[nltk_data]   Package omw-1.4 is already up-to-date!\n"
     ]
    }
   ],
   "source": [
    "import sys\n",
    "sys.path.append(r\"d:\\MY WORK\\Python\\Basic-Models\\NLP-Projects\\Basic\")\n",
    "from text_cleaner import clean_dataframe_column"
   ]
  },
  {
   "cell_type": "code",
   "execution_count": null,
   "id": "c0226ab8",
   "metadata": {},
   "outputs": [],
   "source": []
  }
 ],
 "metadata": {
  "kernelspec": {
   "display_name": "venv",
   "language": "python",
   "name": "python3"
  },
  "language_info": {
   "codemirror_mode": {
    "name": "ipython",
    "version": 3
   },
   "file_extension": ".py",
   "mimetype": "text/x-python",
   "name": "python",
   "nbconvert_exporter": "python",
   "pygments_lexer": "ipython3",
   "version": "3.10.11"
  }
 },
 "nbformat": 4,
 "nbformat_minor": 5
}
